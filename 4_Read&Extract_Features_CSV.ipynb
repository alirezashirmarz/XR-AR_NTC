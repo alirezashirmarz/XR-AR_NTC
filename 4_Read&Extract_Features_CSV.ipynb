{
  "cells": [
    {
      "cell_type": "markdown",
      "metadata": {
        "id": "view-in-github",
        "colab_type": "text"
      },
      "source": [
        "<a href=\"https://colab.research.google.com/github/alirezashirmarz/XR-AR_NTC/blob/main/4_Read%26Extract_Features_CSV.ipynb\" target=\"_parent\"><img src=\"https://colab.research.google.com/assets/colab-badge.svg\" alt=\"Open In Colab\"/></a>"
      ]
    },
    {
      "cell_type": "markdown",
      "metadata": {
        "id": "CfmMmoietvTv"
      },
      "source": [
        "# **Title: Extract Features IPI, IFI, FS from CSV File (Paper Dataset)**\n",
        "#### e.g. [36] Andreas Traßl, Nick Schwarzenberg, Philipp Schulz.(2021). Augmented Reality Streams for Cloud-Based Rendering.IEEE Dataport. https://dx.doi.org/10.21227/jjan-tj96\n",
        "\n",
        "##### It can be used for all csv saved with wireshark as csv"
      ]
    },
    {
      "cell_type": "markdown",
      "metadata": {
        "id": "7fSk5ktEtvTz"
      },
      "source": [
        "# 1- **Set the Rootdirectory to extract the features** (It must be done before Cell 1)"
      ]
    },
    {
      "cell_type": "code",
      "execution_count": null,
      "metadata": {
        "id": "Ad-ahaNPtvTz",
        "outputId": "9d09c58e-6b67-4ab7-8066-8a73e577e294"
      },
      "outputs": [
        {
          "name": "stdout",
          "output_type": "stream",
          "text": [
            "/home/alireza/Downloads/DS/Others/CloudGaming/MyCSV\n"
          ]
        }
      ],
      "source": [
        "root_directory = r'/home/alireza/Downloads/DS/Others/CloudGaming/MyCSV'\n",
        "\n",
        "print(root_directory)\n",
        "\n",
        "#print(files_with_extension[0].split('.')[-5].split(r\"\"\"\\\"\"\")[-1])"
      ]
    },
    {
      "cell_type": "code",
      "execution_count": null,
      "metadata": {
        "id": "Xaogw1eAtvT1"
      },
      "outputs": [],
      "source": [
        "# Find all pcap files in  a directory\n",
        "import os\n",
        "import glob\n",
        "\n",
        "def find_files_with_extension(root_dir, extension):\n",
        "  ''' Function: Find the files with sxpecific extension\n",
        "  Output: list of files full address '''\n",
        "    file_list = []\n",
        "    for root, dirs, files in os.walk(root_dir):\n",
        "        for file in files:\n",
        "            if file.endswith(extension):\n",
        "                file_list.append(os.path.join(root, file))\n",
        "    return file_list\n",
        "\n",
        "# set the extension to find from the rood directory\n",
        "extension = '.csv'  # '.pcap' or '.pcapng'\n",
        "files_with_extension = find_files_with_extension(root_directory, extension)\n",
        "\n",
        "# print to show the found files\n",
        "print(\"Files found:\")\n",
        "for file_path in files_with_extension:\n",
        "    print(file_path)\n"
      ]
    },
    {
      "cell_type": "markdown",
      "source": [
        "# 2- **Execute the extract Files**"
      ],
      "metadata": {
        "id": "G2khlgiau9Zi"
      }
    },
    {
      "cell_type": "code",
      "execution_count": null,
      "metadata": {
        "id": "gjBVRGi0tvT2"
      },
      "outputs": [],
      "source": [
        "import pandas as pd\n",
        "import re\n",
        "from ipaddress import ip_address\n",
        "\n",
        "def extract_info(info):\n",
        "    match = re.search(r'(\\d+)\\s+>\\s+(\\d+)\\s+Len=(\\d+)', info)\n",
        "    if match:\n",
        "        return int(match.group(1)), int(match.group(2)), int(match.group(3))\n",
        "    return None, None, None  # Return None if the pattern does not match\n",
        "\n",
        "'''#Extract SrcPort, DstPort, and Pkt payload Size  from the Info field '''\n",
        "\n",
        "# Function to load and process the CSV file\n",
        "def process_packet_data(file_path):\n",
        "  '''Load and analyze to extract the features'''\n",
        "\n",
        "    # Load the CSV file\n",
        "    data = pd.read_csv(file_path)\n",
        "\n",
        "    # Extracting SrcPort, DstPort, and PS from the Info field\n",
        "    extracted_info = data['Info'].apply(lambda x: pd.Series(extract_info(x)))\n",
        "    data[['SrcPort', 'DstPort', 'PS']] = extracted_info.fillna(0).astype(int)\n",
        "    #info_pattern = re.compile(r'(\\d+)\\s+>\\s+(\\d+)\\s+Len=(\\d+)')\n",
        "    #data[['SrcPort', 'DstPort', 'PS']] = data['Info'].str.extract(info_pattern).astype(int)\n",
        "\n",
        "    # Calculating IPI (Inter Packet Interval)\n",
        "    data['IPI'] = data['Time'].diff().fillna(0)\n",
        "\n",
        "    # Identifying unique flows and frames\n",
        "    data['FlowID'] = data[['Source', 'Destination', 'Protocol']].apply(lambda x: '-'.join(x), axis=1)\n",
        "    data['FrameID'] = data[['Source', 'Destination', 'SrcPort', 'DstPort', 'Protocol']].apply(lambda x: '-'.join(map(str, x)), axis=1)\n",
        "\n",
        "    # Calculating FlowSizeBytes, FlowSizePackets, FS, FS(PKT), and IFI\n",
        "    data['FlowSizeBytes'] = data.groupby('FlowID')['Length'].transform('sum')\n",
        "    data['FlowSizePackets'] = data.groupby('FlowID')['Length'].transform('size')\n",
        "    data['FS'] = data.groupby('FrameID')['Length'].transform('sum')\n",
        "    data['FS(PKT)'] = data.groupby('FrameID')['Length'].transform('size')\n",
        "    data['IFI'] = data.groupby('FrameID')['Time'].diff().fillna(0).cumsum()\n",
        "\n",
        "    # Number of unique frames in the dataset\n",
        "    data['NumFrames'] = data['FrameID'].nunique()\n",
        "\n",
        "    # Selecting and renaming the columns for final output\n",
        "    final_columns = ['No.', 'Source', 'Destination', 'SrcPort', 'DstPort', 'Protocol', 'PS', 'IPI',\n",
        "                     'FlowSizeBytes', 'FlowSizePackets', 'FS', 'FS(PKT)', 'NumFrames', 'IFI']\n",
        "    final_data = data[final_columns]\n",
        "    final_data.columns = ['ID', 'SrcIP', 'DstIP', 'SrcPort', 'DstPort', 'Protocol', 'PS', 'IPI',\n",
        "                          'FlowSizeBytes', 'FlowSizePackets', 'FS', 'FS(PKT)', 'NumFrames', 'IFI']\n",
        "\n",
        "    return final_data\n",
        "\n",
        "i=0\n",
        "# Extracted features and reaported\n",
        "for file_path in files_with_extension:\n",
        "    i=i+1\n",
        "    output_csv_file_path= file_path + 'my' + str(i) + '.csv'\n",
        "    processed_data = process_packet_data(file_path)\n",
        "    processed_data.to_csv(output_csv_file_path)\n",
        "    print(str(i) , output_csv_file_path)"
      ]
    },
    {
      "cell_type": "markdown",
      "metadata": {
        "id": "LLLfIXCHtvT3"
      },
      "source": [
        "# 3- **Merge the Extracted CSV files**"
      ]
    },
    {
      "cell_type": "code",
      "execution_count": null,
      "metadata": {
        "id": "wN4zEYdTtvT3"
      },
      "outputs": [],
      "source": [
        "# Read and merge the csv files\n",
        "\n",
        "'''\n",
        "# Configuration\n",
        "    # Input:\n",
        "      1- root-directory--> It is the directory with csv files (In this case, it\n",
        "      uses the roo directory from 2 previous cell)\n",
        "      2- ds_name --> the name you want to save the csv file (without extension)\n",
        "    # Output:\n",
        "      1- Save the\n",
        "'''\n",
        "\n",
        "import pandas as pd\n",
        "#root_directory = \"E:\\Postdoc_UFScar\\Dataset\\Other Datasets\\VOD\"\n",
        "ds_name= 'DS'\n",
        "print(root_directory)\n",
        "csvfiles = find_files_with_extension(root_directory, 'csv')\n",
        "dff = []\n",
        "for mycsv in csvfiles:\n",
        "    mydf = pd.read_csv(mycsv)\n",
        "    dff.append(mydf)\n",
        "df = pd.concat(dff, ignore_index=True, sort=False)\n",
        "#df = pd.concat(dff, ignore_index=True)\n",
        "df.to_csv(root_directory +'/' + ds_name +'.csv', index=False)\n",
        "#df.to_csv(root_directory + '\\\\AR.csv', index=False)\n",
        "print(f\"The df with {df.shape[0]} rows and {df.shape[1]} columns was stored as csv file!\")"
      ]
    },
    {
      "cell_type": "code",
      "execution_count": 1,
      "metadata": {
        "id": "zixsQR27tvT4"
      },
      "outputs": [],
      "source": []
    }
  ],
  "metadata": {
    "kernelspec": {
      "display_name": "Python 3 (ipykernel)",
      "language": "python",
      "name": "python3"
    },
    "language_info": {
      "codemirror_mode": {
        "name": "ipython",
        "version": 3
      },
      "file_extension": ".py",
      "mimetype": "text/x-python",
      "name": "python",
      "nbconvert_exporter": "python",
      "pygments_lexer": "ipython3",
      "version": "3.10.12"
    },
    "colab": {
      "provenance": [],
      "include_colab_link": true
    }
  },
  "nbformat": 4,
  "nbformat_minor": 0
}